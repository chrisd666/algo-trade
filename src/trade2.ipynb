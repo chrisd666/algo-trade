{
 "metadata": {
  "language_info": {
   "codemirror_mode": {
    "name": "ipython",
    "version": 3
   },
   "file_extension": ".py",
   "mimetype": "text/x-python",
   "name": "python",
   "nbconvert_exporter": "python",
   "pygments_lexer": "ipython3",
   "version": "3.8.3-final"
  },
  "orig_nbformat": 2,
  "kernelspec": {
   "name": "python38364bittradeconda4b550315482f4038976c7122d7b993bf",
   "display_name": "Python 3.8.3 64-bit ('trade': conda)"
  }
 },
 "nbformat": 4,
 "nbformat_minor": 2,
 "cells": [
  {
   "cell_type": "code",
   "execution_count": 5,
   "metadata": {},
   "outputs": [],
   "source": [
    "# import requests as req\n",
    "# import pandas as pd\n",
    "# from nsepy import get_history\n",
    "from datetime import date\n",
    "import formulas2"
   ]
  },
  {
   "cell_type": "code",
   "execution_count": 6,
   "metadata": {
    "tags": []
   },
   "outputs": [],
   "source": [
    "apv_api_key = '2N8UEPVRC2AWTK6B'\n",
    "apv_base_url = 'https://www.alphavantage.co'\n",
    "size = 'compact'\n",
    "ticker = 'NSE:TCS'\n",
    "\n",
    "time_series_daily = req.get(apv_base_url + '/query?function=TIME_SERIES_DAILY_ADJUSTED&symbol=' + ticker + '&outputsize=' + size + '&apikey=' + apv_api_key)\n",
    "\n",
    "\n",
    "dataframe = pd.DataFrame(time_series_daily)\n",
    "\n",
    "# print(time_series_daily)"
   ]
  },
  {
   "cell_type": "code",
   "execution_count": 7,
   "metadata": {
    "tags": []
   },
   "outputs": [],
   "source": [
    "ticker = formulas2.Ticker(\"TCS\", date(2020,6,30), date(2020,9,30))\n",
    "\n",
    "data = ticker.get_historical_data()\n",
    "data_copy = data.copy()\n",
    "\n",
    "indicator = formulas2.Indicator(data)\n",
    "\n",
    "macd_data = indicator.MACD()\n",
    "slope = indicator.slope(macd_data[\"Close\"])\n",
    "macd_data['Slope'] = slope\n",
    "\n",
    "# macd_data[['MACD', 'Signal']].plot()\n",
    "\n",
    "# data[['Close']].plot()"
   ]
  },
  {
   "cell_type": "code",
   "execution_count": null,
   "metadata": {},
   "outputs": [],
   "source": []
  }
 ]
}