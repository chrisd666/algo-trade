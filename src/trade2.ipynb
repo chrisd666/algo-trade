{
 "metadata": {
  "language_info": {
   "codemirror_mode": {
    "name": "ipython",
    "version": 3
   },
   "file_extension": ".py",
   "mimetype": "text/x-python",
   "name": "python",
   "nbconvert_exporter": "python",
   "pygments_lexer": "ipython3",
   "version": "3.8.3-final"
  },
  "orig_nbformat": 2,
  "kernelspec": {
   "name": "python38364bittradeconda4b550315482f4038976c7122d7b993bf",
   "display_name": "Python 3.8.3 64-bit ('trade': conda)"
  }
 },
 "nbformat": 4,
 "nbformat_minor": 2,
 "cells": [
  {
   "cell_type": "code",
   "execution_count": 1,
   "metadata": {},
   "outputs": [],
   "source": [
    "import requests as req\n",
    "import pandas as pd\n",
    "from nsepy import get_history\n",
    "from datetime import date\n",
    "import formulas2"
   ]
  },
  {
   "cell_type": "code",
   "execution_count": 6,
   "metadata": {
    "tags": []
   },
   "outputs": [],
   "source": [
    "apv_api_key = '2N8UEPVRC2AWTK6B'\n",
    "apv_base_url = 'https://www.alphavantage.co'\n",
    "size = 'compact'\n",
    "ticker = 'NSE:TCS'\n",
    "\n",
    "time_series_daily = req.get(apv_base_url + '/query?function=TIME_SERIES_DAILY_ADJUSTED&symbol=' + ticker + '&outputsize=' + size + '&apikey=' + apv_api_key)\n",
    "\n",
    "\n",
    "dataframe = pd.DataFrame(time_series_daily)\n",
    "\n",
    "# print(time_series_daily)"
   ]
  },
  {
   "cell_type": "code",
   "execution_count": 2,
   "metadata": {
    "tags": []
   },
   "outputs": [
    {
     "output_type": "stream",
     "name": "stdout",
     "text": "9\n"
    }
   ],
   "source": [
    "data = get_history(symbol=\"SBIN\", start=date(2020,6,30), end=date(2020,9,30))\n",
    "data_copy = data.copy()\n",
    "filtered_data = data_copy.drop(columns=['Series', 'Prev Close', 'Last', 'VWAP', 'Turnover', 'Trades', 'Deliverable Volume', '%Deliverble'])\n",
    "\n",
    "# df = filtered_data.copy()\n",
    "\n",
    "# # FAST MOVING LINE\n",
    "# df['MA_Fast'] = df['Close'].ewm(span=12, min_periods=12).mean()\n",
    "# # SLOW MOVING LINE\n",
    "# df['MA_Slow'] = df['Close'].ewm(span=26, min_periods=26).mean()\n",
    "# df['MACD'] = df['MA_Fast'] - df['MA_Slow']\n",
    "# # SIGNAL\n",
    "# df['Signal'] = df['MACD'].ewm(span=9, min_periods=9).mean()\n",
    "\n",
    "\n",
    "macd_data = formulas2.MACD(filtered_data)\n",
    "\n",
    "print(macd_data)\n",
    "\n",
    "# data[['Close']].plot()"
   ]
  },
  {
   "cell_type": "code",
   "execution_count": null,
   "metadata": {},
   "outputs": [],
   "source": []
  }
 ]
}