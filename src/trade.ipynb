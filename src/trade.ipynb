{
 "metadata": {
  "language_info": {
   "codemirror_mode": {
    "name": "ipython",
    "version": 3
   },
   "file_extension": ".py",
   "mimetype": "text/x-python",
   "name": "python",
   "nbconvert_exporter": "python",
   "pygments_lexer": "ipython3",
   "version": "3.8.3-final"
  },
  "orig_nbformat": 2,
  "kernelspec": {
   "name": "python38364bittradeconda4b550315482f4038976c7122d7b993bf",
   "display_name": "Python 3.8.3 64-bit ('trade': conda)"
  }
 },
 "nbformat": 4,
 "nbformat_minor": 2,
 "cells": [
  {
   "cell_type": "code",
   "execution_count": 1,
   "metadata": {
    "tags": []
   },
   "outputs": [],
   "source": [
    "import yfinance as yf\n",
    "import pandas as pd\n",
    "import datetime as dt\n",
    "import requests as req\n",
    "from bs4 import BeautifulSoup\n",
    "import utils\n",
    "from statistics import mean\n",
    "import cash_flow\n",
    "import formulas\n"
   ]
  },
  {
   "cell_type": "code",
   "execution_count": 2,
   "metadata": {},
   "outputs": [],
   "source": [
    "tickers = [\"TCS\", \"GNFC\"]"
   ]
  },
  {
   "cell_type": "code",
   "execution_count": 3,
   "metadata": {
    "tags": []
   },
   "outputs": [
    {
     "output_type": "stream",
     "name": "stdout",
     "text": "[{'TCS': {'avg_growth_rate': 26.247210724176576, 'last_fcf_value': 29120.0, 'capm': 5.91}}, {'GNFC': {'avg_growth_rate': 42.94427696184804, 'last_fcf_value': 541.15, 'capm': 5.91}}]\n"
    }
   ],
   "source": [
    "ticker_data = []\n",
    "years = []\n",
    "\n",
    "for i in range(10):\n",
    "        years.append(utils.get_financial_year() + i)\n",
    "\n",
    "forward_fcf_df = pd.DataFrame(index=years)\n",
    "\n",
    "for idx, ticker in enumerate(tickers):\n",
    "    free_cash_flows = cash_flow.scraped_fcf(ticker)\n",
    "    growth_rates = cash_flow.calculate_growth_rate(free_cash_flows)\n",
    "\n",
    "    ticker_data.append({ ticker: { \"avg_growth_rate\": mean(growth_rates), \"last_fcf_value\": free_cash_flows[len(free_cash_flows) - 1] } })\n",
    "\n",
    "    forward_fcf_df[ticker] = cash_flow.generate_forward_fcf(10, ticker_data, idx, ticker)\n",
    "\n",
    "    ticker_data[idx][ticker][\"capm\"] = formulas.CAPM(ticker)\n",
    "\n",
    "\n",
    "print(ticker_data)\n",
    "\n",
    "\n"
   ]
  },
  {
   "cell_type": "code",
   "execution_count": 4,
   "metadata": {
    "tags": []
   },
   "outputs": [
    {
     "output_type": "stream",
     "name": "stdout",
     "text": "Empty DataFrame\nColumns: [2021, 2022, 2023, 2024, 2025, 2026, 2027, 2028, 2029, 2030]\nIndex: []\n"
    }
   ],
   "source": [
    "# PROJECT FUTURE FCF\n",
    "\n",
    "\n",
    "\n"
   ]
  },
  {
   "cell_type": "code",
   "execution_count": 9,
   "metadata": {
    "tags": []
   },
   "outputs": [
    {
     "output_type": "stream",
     "name": "stdout",
     "text": "{'zip': '400021', 'sector': 'Technology', 'fullTimeEmployees': 443676, 'longBusinessSummary': 'Tata Consultancy Services Limited provides information technology (IT) and IT enabled services worldwide. It operates through Banking, Financial Services and Insurance; Manufacturing; Retail and Consumer Business; Communication, Media and Technology; and Others segments. The company offers CHROMA, a cloud-based talent management solution; ignio, a cognitive automation software product; iON, an assessment platform; TAP, a procurement offering; TCS MasterCraft, a platform to automate and manage IT processes; and Quartz, a blockchain solution. It also provides customer intelligence and insight solutions to deliver retail, banking, and communications experiences; Intelligent Urban Exchange, an integrated software to accelerate smart city programs; OPTUMERA, a digital merchandising suite; TCS BaNCS, a financial platform; and Jile, an agile DevOps product. In addition, the company offers advanced drug development and connected intelligent platforms; ERP on cloud, an enterprise solution that offers hosted ERP applications and services; HOBS, a platform for subscription based digital business. Further, it provides cognitive business, consulting, analytics, automation and artificial intelligence, Internet of Things, cloud applications, blockchain, cloud infrastructure, cyber security, interactive, industrial engineering, quality engineering, and enterprise services. The company serves banking, financial, and public services; consumer goods and distribution, insurance, life sciences and healthcare, manufacturing, retail, hi-tech, travel, transportation, and hospitality industries; communications, media, and technology industries; and energy, resource, and utility industries. It has a strategic partnership with Posten Norge AS.; a strategic alliance with Zendesk, Inc. to provide enterprise grade CRM solutions; and a collaboration agreement with IBM to power digital and cognitive enterprise transformations with IBM Cloud. The company was founded in 1968 and is based in Mumbai, India. Tata Consultancy Services Limited is a subsidiary of Tata Sons Private Limited.', 'city': 'Mumbai', 'phone': '91 22 6778 9595', 'country': 'India', 'companyOfficers': [], 'website': 'http://www.tcs.com', 'maxAge': 1, 'address1': 'Nirmal Building', 'fax': '91 22 6778 9660', 'industry': 'Information Technology Services', 'address2': '9th Floor Nariman Point', 'previousClose': 2254.45, 'regularMarketOpen': 2277, 'twoHundredDayAverage': 2021.6804, 'trailingAnnualDividendYield': 0.014637717, 'payoutRatio': 0.3966, 'volume24Hr': None, 'regularMarketDayHigh': 2281.3, 'navPrice': None, 'averageDailyVolume10Day': 3361341, 'totalAssets': None, 'regularMarketPreviousClose': 2254.45, 'fiftyDayAverage': 2221.1099, 'trailingAnnualDividendRate': 33, 'open': 2277, 'toCurrency': None, 'averageVolume10days': 3361341, 'expireDate': None, 'yield': None, 'algorithm': None, 'dividendRate': 20, 'exDividendDate': 1594857600, 'beta': 0.643568, 'circulatingSupply': None, 'startDate': None, 'regularMarketDayLow': 2235.1, 'priceHint': 2, 'currency': 'INR', 'trailingPE': 26.951508, 'regularMarketVolume': 2269734, 'lastMarket': None, 'maxSupply': None, 'openInterest': None, 'marketCap': 8413398433792, 'volumeAllCurrencies': None, 'strikePrice': None, 'averageVolume': 3839310, 'priceToSalesTrailing12Months': 5.3554754, 'dayLow': 2235.1, 'ask': 0, 'ytdReturn': None, 'askSize': 0, 'volume': 2269734, 'fiftyTwoWeekHigh': 2358, 'forwardPE': 23.63641, 'fromCurrency': None, 'fiveYearAvgDividendYield': 1.59, 'fiftyTwoWeekLow': 1506.05, 'bid': 0, 'tradeable': False, 'dividendYield': 0.0089, 'bidSize': 0, 'dayHigh': 2281.3, 'exchange': 'NSI', 'shortName': 'TATA CONSULTANCY S', 'longName': 'Tata Consultancy Services Limited', 'exchangeTimezoneName': 'Asia/Kolkata', 'exchangeTimezoneShortName': 'IST', 'isEsgPopulated': False, 'gmtOffSetMilliseconds': '19800000', 'quoteType': 'EQUITY', 'symbol': 'TCS.NS', 'messageBoardId': 'finmb_6411769', 'market': 'in_market', 'annualHoldingsTurnover': None, 'enterpriseToRevenue': 5.19, 'beta3Year': None, 'profitMargins': 0.19871001, 'enterpriseToEbitda': 20.012, '52WeekChange': 0.042279243, 'morningStarRiskRating': None, 'forwardEps': 94.86, 'revenueQuarterlyGrowth': None, 'sharesOutstanding': 3752379904, 'fundInceptionDate': None, 'annualReportExpenseRatio': None, 'bookValue': 238.931, 'sharesShort': None, 'sharesPercentSharesOut': None, 'fundFamily': None, 'lastFiscalYearEnd': 1585612800, 'heldPercentInstitutions': 0.16198999, 'netIncomeToCommon': 312169988096, 'trailingEps': 83.192, 'lastDividendValue': None, 'SandP52WeekChange': 0.15364361, 'priceToBook': 9.384089, 'heldPercentInsiders': 0.72022, 'nextFiscalYearEnd': 1648684800, 'mostRecentQuarter': 1593475200, 'shortRatio': None, 'sharesShortPreviousMonthDate': None, 'floatShares': 1029504268, 'enterpriseValue': 8154173669376, 'threeYearAverageReturn': None, 'lastSplitDate': 1527724800, 'lastSplitFactor': '2:1', 'legalType': None, 'morningStarOverallRating': None, 'earningsQuarterlyGrowth': -0.138, 'dateShortInterest': None, 'pegRatio': None, 'lastCapGain': None, 'shortPercentOfFloat': None, 'sharesShortPriorMonth': None, 'category': None, 'fiveYearAverageReturn': None, 'regularMarketPrice': 2277, 'logo_url': 'https://logo.clearbit.com/tcs.com'}\n"
    }
   ],
   "source": [
    "# Get Cashflows\n",
    "apv_api_key = '2N8UEPVRC2AWTK6B'\n",
    "\n",
    "# cashflows = req.get(\"https://www.alphavantage.co/query?function=OVERVIEW&symbol=TCS&apikey=2N8UEPVRC2AWTK6B\")\n",
    "# cashflows = cashflows.json()\n",
    "\n",
    "stock = yf.Ticker(\"TCS.NS\")\n",
    "\n",
    "print(stock.info)\n",
    "# annual_cf_df = pd.DataFrame(cashflows['annualReports']).sort_index(ascending=False)\n",
    "# dates = annual_cf_df['fiscalDateEnding'].values.tolist()\n",
    "# years = []\n",
    "\n",
    "# for date in dates:\n",
    "#     years.append(dt.datetime.strptime(date, \"%Y-%m-%d\").year)"
   ]
  },
  {
   "cell_type": "code",
   "execution_count": 57,
   "metadata": {
    "tags": []
   },
   "outputs": [
    {
     "output_type": "execute_result",
     "data": {
      "text/plain": "-35.630076966509364"
     },
     "metadata": {},
     "execution_count": 57
    }
   ],
   "source": [
    "fcf_df = pd.DataFrame()\n",
    "fcf_df[\"Year\"] = years\n",
    "fcf_df[\"Operating Cashflow\"] = annual_cf_df[\"operatingCashflow\"].astype(int)\n",
    "fcf_df[\"Cap Ex\"] = annual_cf_df[\"capitalExpenditures\"].astype(int)\n",
    "fcf_df[\"FCF\"] = fcf_df[\"Operating Cashflow\"] - fcf_df[\"Cap Ex\"]\n",
    "growth_rate = [0]\n",
    "\n",
    "for i in range(len(fcf_df[\"FCF\"])):\n",
    "    if i < len(fcf_df[\"FCF\"]) - 1:\n",
    "        pct_diff = (fcf_df[\"FCF\"].iloc[i+1] - fcf_df[\"FCF\"].iloc[i])/abs(fcf_df[\"FCF\"].iloc[i])\n",
    "        growth_rate.append(pct_diff * 100)\n",
    "\n",
    "fcf_df[\"Growth Rate\"]  = growth_rate\n",
    "avg_growth = fcf_df[\"Growth Rate\"].iloc[1:].mean()\n",
    "\n",
    "avg_growth"
   ]
  },
  {
   "cell_type": "code",
   "execution_count": null,
   "metadata": {},
   "outputs": [],
   "source": []
  }
 ]
}