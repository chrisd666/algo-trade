{
 "metadata": {
  "language_info": {
   "codemirror_mode": {
    "name": "ipython",
    "version": 3
   },
   "file_extension": ".py",
   "mimetype": "text/x-python",
   "name": "python",
   "nbconvert_exporter": "python",
   "pygments_lexer": "ipython3",
   "version": "3.8.3-final"
  },
  "orig_nbformat": 2,
  "kernelspec": {
   "name": "python38364bittradeconda4b550315482f4038976c7122d7b993bf",
   "display_name": "Python 3.8.3 64-bit ('trade': conda)"
  }
 },
 "nbformat": 4,
 "nbformat_minor": 2,
 "cells": [
  {
   "cell_type": "code",
   "execution_count": 1,
   "metadata": {
    "tags": []
   },
   "outputs": [],
   "source": [
    "import yfinance as yf\n",
    "import pandas as pd\n",
    "import datetime as dt\n",
    "import requests as req\n",
    "from bs4 import BeautifulSoup\n",
    "import utils\n",
    "from statistics import mean\n",
    "import cash_flow\n",
    "import formulas\n"
   ]
  },
  {
   "cell_type": "code",
   "execution_count": 2,
   "metadata": {
    "tags": []
   },
   "outputs": [],
   "source": [
    "tickers = [\"TCS\", \"GNFC\"]"
   ]
  },
  {
   "cell_type": "code",
   "execution_count": 3,
   "metadata": {
    "tags": []
   },
   "outputs": [
    {
     "output_type": "error",
     "ename": "TypeError",
     "evalue": "can only concatenate str (not \"dict\") to str",
     "traceback": [
      "\u001b[0;31m---------------------------------------------------------------------------\u001b[0m",
      "\u001b[0;31mTypeError\u001b[0m                                 Traceback (most recent call last)",
      "\u001b[0;32m<ipython-input-3-052f85ba50ed>\u001b[0m in \u001b[0;36m<module>\u001b[0;34m\u001b[0m\n\u001b[1;32m     16\u001b[0m         \u001b[0mforward_fcf_df\u001b[0m\u001b[0;34m[\u001b[0m\u001b[0mticker\u001b[0m\u001b[0;34m]\u001b[0m \u001b[0;34m=\u001b[0m \u001b[0mcash_flow\u001b[0m\u001b[0;34m.\u001b[0m\u001b[0mgenerate_forward_fcf\u001b[0m\u001b[0;34m(\u001b[0m\u001b[0;36m10\u001b[0m\u001b[0;34m,\u001b[0m \u001b[0mticker_data\u001b[0m\u001b[0;34m,\u001b[0m \u001b[0midx\u001b[0m\u001b[0;34m,\u001b[0m \u001b[0mticker\u001b[0m\u001b[0;34m)\u001b[0m\u001b[0;34m\u001b[0m\u001b[0;34m\u001b[0m\u001b[0m\n\u001b[1;32m     17\u001b[0m \u001b[0;34m\u001b[0m\u001b[0m\n\u001b[0;32m---> 18\u001b[0;31m         \u001b[0mticker_info\u001b[0m \u001b[0;34m=\u001b[0m \u001b[0mutils\u001b[0m\u001b[0;34m.\u001b[0m\u001b[0mget_ticker_info\u001b[0m\u001b[0;34m(\u001b[0m\u001b[0mticker\u001b[0m \u001b[0;34m,\u001b[0m\u001b[0mticker_data\u001b[0m\u001b[0;34m[\u001b[0m\u001b[0midx\u001b[0m\u001b[0;34m]\u001b[0m\u001b[0;34m[\u001b[0m\u001b[0mticker\u001b[0m\u001b[0;34m]\u001b[0m\u001b[0;34m)\u001b[0m\u001b[0;34m\u001b[0m\u001b[0;34m\u001b[0m\u001b[0m\n\u001b[0m\u001b[1;32m     19\u001b[0m \u001b[0;34m\u001b[0m\u001b[0m\n\u001b[1;32m     20\u001b[0m         \u001b[0mticker_data\u001b[0m\u001b[0;34m[\u001b[0m\u001b[0midx\u001b[0m\u001b[0;34m]\u001b[0m\u001b[0;34m[\u001b[0m\u001b[0mticker\u001b[0m\u001b[0;34m]\u001b[0m\u001b[0;34m[\u001b[0m\u001b[0;34m\"capm\"\u001b[0m\u001b[0;34m]\u001b[0m \u001b[0;34m=\u001b[0m \u001b[0mformulas\u001b[0m\u001b[0;34m.\u001b[0m\u001b[0mCAPM\u001b[0m\u001b[0;34m(\u001b[0m\u001b[0mticker_data\u001b[0m\u001b[0;34m[\u001b[0m\u001b[0midx\u001b[0m\u001b[0;34m]\u001b[0m\u001b[0;34m[\u001b[0m\u001b[0mticker\u001b[0m\u001b[0;34m]\u001b[0m\u001b[0;34m[\u001b[0m\u001b[0;34m\"beta\"\u001b[0m\u001b[0;34m]\u001b[0m\u001b[0;34m)\u001b[0m\u001b[0;34m\u001b[0m\u001b[0;34m\u001b[0m\u001b[0m\n",
      "\u001b[0;32m~/Workspace/personal_trade_scripts/src/utils.py\u001b[0m in \u001b[0;36mget_ticker_info\u001b[0;34m(ticker_name, ticker, inr)\u001b[0m\n\u001b[1;32m     23\u001b[0m     \u001b[0mav_api_key\u001b[0m \u001b[0;34m=\u001b[0m \u001b[0;34m'2N8UEPVRC2AWTK6B'\u001b[0m\u001b[0;34m\u001b[0m\u001b[0;34m\u001b[0m\u001b[0m\n\u001b[1;32m     24\u001b[0m     \u001b[0mav_base_url\u001b[0m \u001b[0;34m=\u001b[0m \u001b[0;34m\"https://www.alphavantage.co/query?function=\"\u001b[0m\u001b[0;34m\u001b[0m\u001b[0;34m\u001b[0m\u001b[0m\n\u001b[0;32m---> 25\u001b[0;31m     \u001b[0mav_income\u001b[0m \u001b[0;34m=\u001b[0m \u001b[0mav_base_url\u001b[0m \u001b[0;34m+\u001b[0m \u001b[0;34m\"INCOME_STATEMENT&symbol=\"\u001b[0m \u001b[0;34m+\u001b[0m\u001b[0;31m \u001b[0m\u001b[0;31m\\\u001b[0m\u001b[0;34m\u001b[0m\u001b[0;34m\u001b[0m\u001b[0m\n\u001b[0m\u001b[1;32m     26\u001b[0m         \u001b[0mticker\u001b[0m \u001b[0;34m+\u001b[0m \u001b[0;34m\"&apikey=\"\u001b[0m \u001b[0;34m+\u001b[0m \u001b[0mav_api_key\u001b[0m\u001b[0;34m\u001b[0m\u001b[0;34m\u001b[0m\u001b[0m\n\u001b[1;32m     27\u001b[0m     \u001b[0mav_bs\u001b[0m \u001b[0;34m=\u001b[0m \u001b[0mav_base_url\u001b[0m \u001b[0;34m+\u001b[0m \u001b[0;34m\"BALANCE_SHEET&symbol=\"\u001b[0m \u001b[0;34m+\u001b[0m \u001b[0mticker\u001b[0m \u001b[0;34m+\u001b[0m \u001b[0;34m\"&apikey=\"\u001b[0m \u001b[0;34m+\u001b[0m \u001b[0mav_api_key\u001b[0m\u001b[0;34m\u001b[0m\u001b[0;34m\u001b[0m\u001b[0m\n",
      "\u001b[0;31mTypeError\u001b[0m: can only concatenate str (not \"dict\") to str"
     ]
    }
   ],
   "source": [
    "ticker_data = []\n",
    "years = []\n",
    "\n",
    "for i in range(10):\n",
    "        years.append(utils.get_financial_year() + i)\n",
    "\n",
    "forward_fcf_df = pd.DataFrame(index=years)\n",
    "\n",
    "for idx, ticker in enumerate(tickers):\n",
    "    free_cash_flows = cash_flow.scraped_fcf(ticker)\n",
    "    growth_rates = cash_flow.calculate_growth_rate(free_cash_flows)\n",
    "\n",
    "    if mean(growth_rates) > 0:\n",
    "        ticker_data.append({ ticker: { \"avg_growth_rate\": mean(growth_rates), \"last_fcf_value\": free_cash_flows[len(free_cash_flows) - 1] } })\n",
    "\n",
    "        forward_fcf_df[ticker] = cash_flow.generate_forward_fcf(10, ticker_data, idx, ticker)\n",
    "\n",
    "        ticker_info = utils.get_ticker_info(ticker ,ticker_data[idx][ticker])\n",
    "\n",
    "        ticker_data[idx][ticker][\"capm\"] = formulas.CAPM(ticker_data[idx][ticker][\"beta\"])\n",
    "\n",
    "        ticker_data[idx][ticker][\"wacc\"] = formulas.WACC(ticker_data[idx][ticker])\n",
    "\n",
    "\n",
    "print(ticker_data)\n",
    "\n",
    "\n"
   ]
  },
  {
   "cell_type": "code",
   "execution_count": 7,
   "metadata": {
    "tags": []
   },
   "outputs": [
    {
     "output_type": "stream",
     "name": "stdout",
     "text": "Empty DataFrame\nColumns: [Open, High, Low, Close, Adj Close, Volume]\nIndex: []\n"
    }
   ],
   "source": [
    "# PROJECT FUTURE FCF\n",
    "t = yf.Ticker(\"TCS.NS\")\n",
    "\n",
    "print(t.balance_sheet)\n",
    "\n",
    "\n"
   ]
  },
  {
   "cell_type": "code",
   "execution_count": 10,
   "metadata": {
    "tags": [
     "outputPrepend"
    ]
   },
   "outputs": [
    {
     "output_type": "stream",
     "name": "stdout",
     "text": "ing': '64394000', 'otherCashflowFromFinancing': '-373000', 'changeInOperatingActivities': '891000', 'netIncome': '14487000', 'changeInCash': '60391000', 'operatingCashflow': '30748000', 'otherOperatingCashflow': '1138000', 'depreciation': '38638000', 'dividendPayout': 'None', 'stockSaleAndPurchase': '-373000', 'changeInInventory': '-17293000', 'changeInAccountReceivables': '-1002000', 'changeInNetIncome': '3572000', 'capitalExpenditures': '33619000', 'changeInReceivables': '-1002000', 'changeInExchangeRate': '-1149000', 'changeInCashAndCashEquivalents': '60391000'}, {'fiscalDateEnding': '2019-03-31', 'reportedCurrency': 'USD', 'investments': '-32771000', 'changeInLiabilities': '13622000', 'cashflowFromInvestment': '-32771000', 'otherCashflowFromInvestment': '899000', 'netBorrowings': '-19495000', 'cashflowFromFinancing': '-22007000', 'otherCashflowFromFinancing': '-2384000', 'changeInOperatingActivities': '-3793000', 'netIncome': '21680000', 'changeInCash': '-1035000', 'operatingCashflow': '54896000', 'otherOperatingCashflow': '1510000', 'depreciation': '36305000', 'dividendPayout': 'None', 'stockSaleAndPurchase': '-128000', 'changeInInventory': '-14688000', 'changeInAccountReceivables': '-1395000', 'changeInNetIncome': '3242000', 'capitalExpenditures': '33670000', 'changeInReceivables': '-1395000', 'changeInExchangeRate': '-1153000', 'changeInCashAndCashEquivalents': '-1035000'}, {'fiscalDateEnding': '2018-03-31', 'reportedCurrency': 'USD', 'investments': '-27550000', 'changeInLiabilities': '6249000', 'cashflowFromInvestment': '-27550000', 'otherCashflowFromInvestment': '96000', 'netBorrowings': '-26403000', 'cashflowFromFinancing': '-37688000', 'otherCashflowFromFinancing': '-11246000', 'changeInOperatingActivities': '4335000', 'netIncome': '19428000', 'changeInCash': '-2337000', 'operatingCashflow': '62176000', 'otherOperatingCashflow': '-2133000', 'depreciation': '37922000', 'dividendPayout': '0', 'stockSaleAndPurchase': '-39000', 'changeInInventory': '8406000', 'changeInAccountReceivables': '3192000', 'changeInNetIncome': '-20645000', 'capitalExpenditures': '27646000', 'changeInReceivables': '3192000', 'changeInExchangeRate': '725000', 'changeInCashAndCashEquivalents': '-2337000'}, {'fiscalDateEnding': '2017-03-31', 'reportedCurrency': 'USD', 'investments': '-28508000', 'changeInLiabilities': '10965000', 'cashflowFromInvestment': '-28508000', 'otherCashflowFromInvestment': '7000', 'netBorrowings': '-13981000', 'cashflowFromFinancing': '-13981000', 'otherCashflowFromFinancing': '-11246000', 'changeInOperatingActivities': '-313000', 'netIncome': '14953000', 'changeInCash': '1927000', 'operatingCashflow': '44639000', 'otherOperatingCashflow': '4028000', 'depreciation': '37124000', 'dividendPayout': '0', 'stockSaleAndPurchase': '0', 'changeInInventory': '-19598000', 'changeInAccountReceivables': '-5861000', 'changeInNetIncome': '1921000', 'capitalExpenditures': '28515000', 'changeInReceivables': '-5861000', 'changeInExchangeRate': '-223000', 'changeInCashAndCashEquivalents': '1927000'}, {'fiscalDateEnding': '2016-04-02', 'reportedCurrency': 'USD', 'investments': 'None', 'changeInLiabilities': '-171096000', 'cashflowFromInvestment': '-29208000', 'otherCashflowFromInvestment': 'None', 'netBorrowings': '83304000', 'cashflowFromFinancing': '83304000', 'otherCashflowFromFinancing': '-11246000', 'changeInOperatingActivities': '-90840000', 'netIncome': '4248000', 'changeInCash': '-57600000', 'operatingCashflow': '-114480000', 'otherOperatingCashflow': 'None', 'depreciation': '32556000', 'dividendPayout': 'None', 'stockSaleAndPurchase': 'None', 'changeInInventory': '18192000', 'changeInAccountReceivables': '83496000', 'changeInNetIncome': '12120000', 'capitalExpenditures': '29220000', 'changeInReceivables': 'None', 'changeInExchangeRate': 'None', 'changeInCashAndCashEquivalents': 'None'}], 'quarterlyReports': [{'fiscalDateEnding': '2020-06-30', 'reportedCurrency': 'USD', 'investments': '-3907000', 'changeInLiabilities': '11651000', 'cashflowFromInvestment': '-3907000', 'otherCashflowFromInvestment': '6000', 'netBorrowings': '-25687000', 'cashflowFromFinancing': '-26093000', 'otherCashflowFromFinancing': '-406000', 'changeInOperatingActivities': '9619000', 'netIncome': '-16670000', 'changeInCash': '-4386000', 'operatingCashflow': '25614000', 'otherOperatingCashflow': '8010000', 'depreciation': '9414000', 'dividendPayout': 'None', 'stockSaleAndPurchase': 'None', 'changeInInventory': '16085000', 'changeInAccountReceivables': '204000', 'changeInNetIncome': '-5784000', 'capitalExpenditures': '3913000', 'changeInReceivables': '204000', 'changeInExchangeRate': '139000', 'changeInCashAndCashEquivalents': '-4247000'}, {'fiscalDateEnding': '2020-03-31', 'reportedCurrency': 'USD', 'investments': '-4318000', 'changeInLiabilities': '-7161000', 'cashflowFromInvestment': '-4318000', 'otherCashflowFromInvestment': '5000', 'netBorrowings': '27644000', 'cashflowFromFinancing': '27643000', 'otherCashflowFromFinancing': '-1000', 'changeInOperatingActivities': '-1947000', 'netIncome': '12528000', 'changeInCash': '55209000', 'operatingCashflow': '31884000', 'otherOperatingCashflow': '-323000', 'depreciation': '10967000', 'dividendPayout': 'None', 'stockSaleAndPurchase': '-373000', 'changeInInventory': '14834000', 'changeInAccountReceivables': '3147000', 'changeInNetIncome': '4449000', 'capitalExpenditures': '4323000', 'changeInReceivables': '3147000', 'changeInExchangeRate': '-1425000', 'changeInCashAndCashEquivalents': '53784000'}, {'fiscalDateEnding': '2019-12-31', 'reportedCurrency': 'USD', 'investments': '-7754000', 'changeInLiabilities': '-13794000', 'cashflowFromInvestment': '-7754000', 'otherCashflowFromInvestment': '8000', 'netBorrowings': '19146000', 'cashflowFromFinancing': '19130000', 'otherCashflowFromFinancing': '-16000', 'changeInOperatingActivities': '1494000', 'netIncome': '2412000', 'changeInCash': '4485000', 'operatingCashflow': '-6891000', 'otherOperatingCashflow': '1029000', 'depreciation': '10154000', 'dividendPayout': 'None', 'stockSaleAndPurchase': '-372000', 'changeInInventory': '-6139000', 'changeInAccountReceivables': '-2291000', 'changeInNetIncome': '-1969000', 'capitalExpenditures': '7762000', 'changeInReceivables': '-2291000', 'changeInExchangeRate': '457000', 'changeInCashAndCashEquivalents': '4942000'}, {'fiscalDateEnding': '2019-09-30', 'reportedCurrency': 'USD', 'investments': '-12831000', 'changeInLiabilities': '15149000', 'cashflowFromInvestment': '-12831000', 'otherCashflowFromInvestment': '4000', 'netBorrowings': '-3644000', 'cashflowFromFinancing': '-3653000', 'otherCashflowFromFinancing': '-9000', 'changeInOperatingActivities': '1796000', 'netIncome': '3646000', 'changeInCash': '-2375000', 'operatingCashflow': '14076000', 'otherOperatingCashflow': '1254000', 'depreciation': '8742000', 'dividendPayout': 'None', 'stockSaleAndPurchase': '-356000', 'changeInInventory': '-14065000', 'changeInAccountReceivables': '342000', 'changeInNetIncome': '1711000', 'capitalExpenditures': '12831000', 'changeInReceivables': '342000', 'changeInExchangeRate': '33000', 'changeInCashAndCashEquivalents': '-2375000'}, {'fiscalDateEnding': '2019-06-30', 'reportedCurrency': 'USD', 'investments': '-8699000', 'changeInLiabilities': '1636000', 'cashflowFromInvestment': '-8699000', 'otherCashflowFromInvestment': '4000', 'netBorrowings': '21621000', 'cashflowFromFinancing': '21274000', 'otherCashflowFromFinancing': '-347000', 'changeInOperatingActivities': '-452000', 'netIncome': '-4099000', 'changeInCash': '4040000', 'operatingCashflow': '-8321000', 'otherOperatingCashflow': '-822000', 'depreciation': '9706000', 'dividendPayout': 'None', 'stockSaleAndPurchase': '-347000', 'changeInInventory': '-11923000', 'changeInAccountReceivables': '-2200000', 'changeInNetIncome': '-1084000', 'capitalExpenditures': '8703000', 'changeInReceivables': '-2200000', 'changeInExchangeRate': '-214000', 'changeInCashAndCashEquivalents': '4040000'}, {'fiscalDateEnding': '2019-03-31', 'reportedCurrency': 'USD', 'investments': '-12358000', 'changeInLiabilities': '1080000', 'cashflowFromInvestment': '-12358000', 'otherCashflowFromInvestment': '-16000', 'netBorrowings': '-37744000', 'cashflowFromFinancing': '-37744000', 'otherCashflowFromFinancing': '-2384000', 'changeInOperatingActivities': '-3546000', 'netIncome': '15882000', 'changeInCash': '-13605000', 'operatingCashflow': '37073000', 'otherOperatingCashflow': '-3343000', 'depreciation': '8953000', 'dividendPayout': 'None', 'stockSaleAndPurchase': '-128000', 'changeInInventory': '7325000', 'changeInAccountReceivables': '3260000', 'changeInNetIncome': '3451000', 'capitalExpenditures': '12342000', 'changeInReceivables': '3260000', 'changeInExchangeRate': '-576000', 'changeInCashAndCashEquivalents': '-13605000'}, {'fiscalDateEnding': '2018-12-31', 'reportedCurrency': 'USD', 'investments': 'None', 'changeInLiabilities': '-1979000', 'cashflowFromInvestment': '-9751000', 'otherCashflowFromInvestment': '908000', 'netBorrowings': '14109000', 'cashflowFromFinancing': '13963000', 'otherCashflowFromFinancing': '-6000', 'changeInOperatingActivities': '-1691000', 'netIncome': '9321000', 'changeInCash': '13757000', 'operatingCashflow': '9687000', 'otherOperatingCashflow': '2978000', 'depreciation': '8887000', 'dividendPayout': 'None', 'stockSaleAndPurchase': '-128000', 'changeInInventory': '-4947000', 'changeInAccountReceivables': '-4282000', 'changeInNetIncome': '-759000', 'capitalExpenditures': '10659000', 'changeInReceivables': '-4282000', 'changeInExchangeRate': '-142000', 'changeInCashAndCashEquivalents': '13757000'}, {'fiscalDateEnding': '2018-09-30', 'reportedCurrency': 'USD', 'investments': 'None', 'changeInLiabilities': '131000', 'cashflowFromInvestment': '-6207000', 'otherCashflowFromInvestment': '6000', 'netBorrowings': '-12068000', 'cashflowFromFinancing': '-12068000', 'otherCashflowFromFinancing': '-2244000', 'changeInOperatingActivities': '1710000', 'netIncome': '3241000', 'changeInCash': '-6890000', 'operatingCashflow': '11456000', 'otherOperatingCashflow': '2073000', 'depreciation': '9128000', 'dividendPayout': '0', 'stockSaleAndPurchase': '0', 'changeInInventory': '-7091000', 'changeInAccountReceivables': '-483000', 'changeInNetIncome': '3798000', 'capitalExpenditures': '6213000', 'changeInReceivables': '-483000', 'changeInExchangeRate': '-71000', 'changeInCashAndCashEquivalents': '-6890000'}, {'fiscalDateEnding': '2018-06-30', 'reportedCurrency': 'USD', 'investments': 'None', 'changeInLiabilities': '6659000', 'cashflowFromInvestment': '-4455000', 'otherCashflowFromInvestment': '1000', 'netBorrowings': '13964000', 'cashflowFromFinancing': '13842000', 'otherCashflowFromFinancing': '-122000', 'changeInOperatingActivities': '-266000', 'netIncome': '-6764000', 'changeInCash': '5703000', 'operatingCashflow': '-3320000', 'otherOperatingCashflow': '-198000', 'depreciation': '9337000', 'dividendPayout': '0', 'stockSaleAndPurchase': '0', 'changeInInventory': '-9975000', 'changeInAccountReceivables': '110000', 'changeInNetIncome': '-3248000', 'capitalExpenditures': '4456000', 'changeInReceivables': '110000', 'changeInExchangeRate': '-364000', 'changeInCashAndCashEquivalents': '5703000'}, {'fiscalDateEnding': '2018-03-31', 'reportedCurrency': 'USD', 'investments': 'None', 'changeInLiabilities': '-1688000', 'cashflowFromInvestment': '-7468000', 'otherCashflowFromInvestment': '77000', 'netBorrowings': '-29518000', 'cashflowFromFinancing': '-29518000', 'otherCashflowFromFinancing': '-2244000', 'changeInOperatingActivities': '6238000', 'netIncome': '-399000', 'changeInCash': '-14254000', 'operatingCashflow': '22784000', 'otherOperatingCashflow': '-2366000', 'depreciation': '10157000', 'dividendPayout': '0', 'stockSaleAndPurchase': '0', 'changeInInventory': '11071000', 'changeInAccountReceivables': '3919000', 'changeInNetIncome': '2090000', 'capitalExpenditures': '7545000', 'changeInReceivables': '3919000', 'changeInExchangeRate': '-52000', 'changeInCashAndCashEquivalents': '-14254000'}, {'fiscalDateEnding': '2017-12-31', 'reportedCurrency': 'USD', 'investments': 'None', 'changeInLiabilities': '2214000', 'cashflowFromInvestment': '-6971000', 'otherCashflowFromInvestment': '1000', 'netBorrowings': '2666000', 'cashflowFromFinancing': '2654000', 'otherCashflowFromFinancing': '-12000', 'changeInOperatingActivities': '1140000', 'netIncome': '28379000', 'changeInCash': '12508000', 'operatingCashflow': '16436000', 'otherOperatingCashflow': '1545000', 'depreciation': '9477000', 'dividendPayout': '0', 'stockSaleAndPurchase': '0', 'changeInInventory': '-406000', 'changeInAccountReceivables': '-3326000', 'changeInNetIncome': '-21447000', 'capitalExpenditures': '6972000', 'changeInReceivables': '-3326000', 'changeInExchangeRate': '389000', 'changeInCashAndCashEquivalents': '12508000'}, {'fiscalDateEnding': '2017-09-30', 'reportedCurrency': 'USD', 'investments': 'None', 'changeInLiabilities': '9938000', 'cashflowFromInvestment': '-7932000', 'otherCashflowFromInvestment': '16000', 'netBorrowings': '-17050000', 'cashflowFromFinancing': '-17050000', 'otherCashflowFromFinancing': '-11234000', 'changeInOperatingActivities': '4461000', 'netIncome': '-875000', 'changeInCash': '2929000', 'operatingCashflow': '27737000', 'otherOperatingCashflow': '5253000', 'depreciation': '10171000', 'dividendPayout': '0', 'stockSaleAndPurchase': '0', 'changeInInventory': '-1909000', 'changeInAccountReceivables': '2599000', 'changeInNetIncome': '3304000', 'capitalExpenditures': '7948000', 'changeInReceivables': '1855000', 'changeInExchangeRate': '174000', 'changeInCashAndCashEquivalents': '2929000'}, {'fiscalDateEnding': '2017-06-30', 'reportedCurrency': 'USD', 'investments': 'None', 'changeInLiabilities': '2878000', 'cashflowFromInvestment': '-5179000', 'otherCashflowFromInvestment': '2000', 'netBorrowings': '6265000', 'cashflowFromFinancing': '6226000', 'otherCashflowFromFinancing': '-39000', 'changeInOperatingActivities': '-7504000', 'netIncome': '-7677000', 'changeInCash': '-3520000', 'operatingCashflow': '-4781000', 'otherOperatingCashflow': '-6565000', 'depreciation': '10022000', 'dividendPayout': '0', 'stockSaleAndPurchase': '0', 'changeInInventory': '-350000', 'changeInAccountReceivables': '744000', 'changeInNetIncome': '-3833000', 'capitalExpenditures': '5181000', 'changeInReceivables': '744000', 'changeInExchangeRate': '214000', 'changeInCashAndCashEquivalents': '-3520000'}, {'fiscalDateEnding': '2017-03-31', 'reportedCurrency': 'USD', 'investments': 'None', 'changeInLiabilities': '-10026000', 'cashflowFromInvestment': '-7505000', 'otherCashflowFromInvestment': '0', 'netBorrowings': '-21342000', 'cashflowFromFinancing': '-21342000', 'otherCashflowFromFinancing': '-11246000', 'changeInOperatingActivities': '-313000', 'netIncome': '8377000', 'changeInCash': '-8083000', 'operatingCashflow': '20764000', 'otherOperatingCashflow': '1096000', 'depreciation': '9543000', 'dividendPayout': '0', 'stockSaleAndPurchase': '0', 'changeInInventory': '6088000', 'changeInAccountReceivables': '-5861000', 'changeInNetIncome': '1704000', 'capitalExpenditures': '7505000', 'changeInReceivables': '3982000', 'changeInExchangeRate': '328000', 'changeInCashAndCashEquivalents': '-7755000'}, {'fiscalDateEnding': '2016-12-31', 'reportedCurrency': 'USD', 'investments': 'None', 'changeInLiabilities': '979000', 'cashflowFromInvestment': '-5796000', 'otherCashflowFromInvestment': '0', 'netBorrowings': '5147000', 'cashflowFromFinancing': '5147000', 'otherCashflowFromFinancing': '-39000', 'changeInOperatingActivities': '-3701000', 'netIncome': '5092000', 'changeInCash': '9162000', 'operatingCashflow': '10457000', 'otherOperatingCashflow': '-3701000', 'depreciation': '9717000', 'dividendPayout': '0', 'stockSaleAndPurchase': '0', 'changeInInventory': '2345000', 'changeInAccountReceivables': '0', 'changeInNetIncome': '-472000', 'capitalExpenditures': '5796000', 'changeInReceivables': '-3503000', 'changeInExchangeRate': '-646000', 'changeInCashAndCashEquivalents': '9162000'}, {'fiscalDateEnding': '2016-09-30', 'reportedCurrency': 'USD', 'investments': 'None', 'changeInLiabilities': '5049000', 'cashflowFromInvestment': '-7201000', 'otherCashflowFromInvestment': '0', 'netBorrowings': '-5944000', 'cashflowFromFinancing': '-5944000', 'otherCashflowFromFinancing': '-39000', 'changeInOperatingActivities': '6389000', 'netIncome': '3541000', 'changeInCash': '942000', 'operatingCashflow': '13418000', 'otherOperatingCashflow': '6389000', 'depreciation': '9958000', 'dividendPayout': '0', 'stockSaleAndPurchase': '0', 'changeInInventory': '-8748000', 'changeInAccountReceivables': '0', 'changeInNetIncome': '1402000', 'capitalExpenditures': '7201000', 'changeInReceivables': '-3504000', 'changeInExchangeRate': '198000', 'changeInCashAndCashEquivalents': '1140000'}, {'fiscalDateEnding': '2016-06-30', 'reportedCurrency': 'USD', 'investments': 'None', 'changeInLiabilities': '14149000', 'cashflowFromInvestment': '-8006000', 'otherCashflowFromInvestment': '7000', 'netBorrowings': '8158000', 'cashflowFromFinancing': '8158000', 'otherCashflowFromFinancing': 'None', 'changeInOperatingActivities': '244000', 'netIncome': '-2057000', 'changeInCash': '-517000', 'operatingCashflow': '-669000', 'otherOperatingCashflow': '244000', 'depreciation': '9827000', 'dividendPayout': '0', 'stockSaleAndPurchase': '0', 'changeInInventory': '-19283000', 'changeInAccountReceivables': '0', 'changeInNetIncome': '-713000', 'capitalExpenditures': '8013000', 'changeInReceivables': '-2836000', 'changeInExchangeRate': '-103000', 'changeInCashAndCashEquivalents': '-620000'}, {'fiscalDateEnding': '2016-03-31', 'reportedCurrency': 'USD', 'investments': 'None', 'changeInLiabilities': '-171096000', 'cashflowFromInvestment': '-29208000', 'otherCashflowFromInvestment': 'None', 'netBorrowings': '83304000', 'cashflowFromFinancing': '83304000', 'otherCashflowFromFinancing': '-11246000', 'changeInOperatingActivities': '-90840000', 'netIncome': '4248000', 'changeInCash': '-57600000', 'operatingCashflow': '-114480000', 'otherOperatingCashflow': 'None', 'depreciation': '32556000', 'dividendPayout': 'None', 'stockSaleAndPurchase': 'None', 'changeInInventory': '18192000', 'changeInAccountReceivables': '83496000', 'changeInNetIncome': '12120000', 'capitalExpenditures': '29220000', 'changeInReceivables': 'None', 'changeInExchangeRate': 'None', 'changeInCashAndCashEquivalents': 'None'}, {'fiscalDateEnding': '2015-12-31', 'reportedCurrency': 'USD', 'investments': '479000', 'changeInLiabilities': '2553000', 'cashflowFromInvestment': '-9982000', 'otherCashflowFromInvestment': '-476000', 'netBorrowings': '-37204000', 'cashflowFromFinancing': '-37204000', 'otherCashflowFromFinancing': '-266000', 'changeInOperatingActivities': '875000', 'netIncome': '9399000', 'changeInCash': '-1102000', 'operatingCashflow': '42307000', 'otherOperatingCashflow': '1580000', 'depreciation': '9461000', 'dividendPayout': '0', 'stockSaleAndPurchase': '0', 'changeInInventory': '23002000', 'changeInAccountReceivables': '-5338000', 'changeInNetIncome': '4274000', 'capitalExpenditures': '9985000', 'changeInReceivables': '-4185000', 'changeInExchangeRate': '140000', 'changeInCashAndCashEquivalents': '-962000'}, {'fiscalDateEnding': '2015-11-29', 'reportedCurrency': 'USD', 'investments': 'None', 'changeInLiabilities': '2893000', 'cashflowFromInvestment': '-10591000', 'otherCashflowFromInvestment': '8000', 'netBorrowings': '2342000', 'cashflowFromFinancing': '2084000', 'otherCashflowFromFinancing': 'None', 'changeInOperatingActivities': '-394000', 'netIncome': '-1731000', 'changeInCash': '-1808000', 'operatingCashflow': '7006000', 'otherOperatingCashflow': 'None', 'depreciation': '8834000', 'dividendPayout': 'None', 'stockSaleAndPurchase': 'None', 'changeInInventory': '-3436000', 'changeInAccountReceivables': '602000', 'changeInNetIncome': '238000', 'capitalExpenditures': '10599000', 'changeInReceivables': 'None', 'changeInExchangeRate': 'None', 'changeInCashAndCashEquivalents': 'None'}]}\n"
    }
   ],
   "source": [
    "# Get Cashflows\n",
    "apv_api_key = '2N8UEPVRC2AWTK6B'\n",
    "\n",
    "cashflows = req.get(\"https://www.alphavantage.co/query?function=CASH_FLOW&symbol=TCS&apikey=2N8UEPVRC2AWTK6B\")\n",
    "cashflows = cashflows.json()\n",
    "\n",
    "print(cashflows)\n",
    "\n",
    "# annual_cf_df = pd.DataFrame(cashflows['annualReports']).sort_index(ascending=False)\n",
    "# dates = annual_cf_df['fiscalDateEnding'].values.tolist()\n",
    "# years = []\n",
    "\n",
    "# for date in dates:\n",
    "#     years.append(dt.datetime.strptime(date, \"%Y-%m-%d\").year)"
   ]
  },
  {
   "cell_type": "code",
   "execution_count": null,
   "metadata": {
    "tags": []
   },
   "outputs": [],
   "source": [
    "fcf_df = pd.DataFrame()\n",
    "fcf_df[\"Year\"] = years\n",
    "fcf_df[\"Operating Cashflow\"] = annual_cf_df[\"operatingCashflow\"].astype(int)\n",
    "fcf_df[\"Cap Ex\"] = annual_cf_df[\"capitalExpenditures\"].astype(int)\n",
    "fcf_df[\"FCF\"] = fcf_df[\"Operating Cashflow\"] - fcf_df[\"Cap Ex\"]\n",
    "growth_rate = [0]\n",
    "\n",
    "for i in range(len(fcf_df[\"FCF\"])):\n",
    "    if i < len(fcf_df[\"FCF\"]) - 1:\n",
    "        pct_diff = (fcf_df[\"FCF\"].iloc[i+1] - fcf_df[\"FCF\"].iloc[i])/abs(fcf_df[\"FCF\"].iloc[i])\n",
    "        growth_rate.append(pct_diff * 100)\n",
    "\n",
    "fcf_df[\"Growth Rate\"]  = growth_rate\n",
    "avg_growth = fcf_df[\"Growth Rate\"].iloc[1:].mean()\n",
    "\n",
    "avg_growth"
   ]
  },
  {
   "cell_type": "code",
   "execution_count": null,
   "metadata": {},
   "outputs": [],
   "source": []
  }
 ]
}