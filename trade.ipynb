{
 "metadata": {
  "language_info": {
   "codemirror_mode": {
    "name": "ipython",
    "version": 3
   },
   "file_extension": ".py",
   "mimetype": "text/x-python",
   "name": "python",
   "nbconvert_exporter": "python",
   "pygments_lexer": "ipython3",
   "version": "3.8.3-final"
  },
  "orig_nbformat": 2,
  "kernelspec": {
   "name": "python38364bittradeconda4b550315482f4038976c7122d7b993bf",
   "display_name": "Python 3.8.3 64-bit ('trade': conda)"
  }
 },
 "nbformat": 4,
 "nbformat_minor": 2,
 "cells": [
  {
   "cell_type": "code",
   "execution_count": 18,
   "metadata": {
    "tags": []
   },
   "outputs": [],
   "source": [
    "import yfinance as yf\n",
    "import pandas as pd\n",
    "import datetime as dt\n",
    "import requests as req\n",
    "from bs4 import BeautifulSoup\n",
    "import utils\n"
   ]
  },
  {
   "cell_type": "code",
   "execution_count": null,
   "metadata": {},
   "outputs": [],
   "source": [
    "tickers = [\"GNFC\"]"
   ]
  },
  {
   "cell_type": "code",
   "execution_count": 87,
   "metadata": {
    "tags": []
   },
   "outputs": [
    {
     "output_type": "stream",
     "name": "stdout",
     "text": "[5120.37, 8977.11, 11625.26, 16419.57, 17122.0, 23234.0, 23205.0, 26362.0, 29120.0]\n"
    }
   ],
   "source": [
    "# financials-table-container\n",
    "url = \"https://www.tickertape.in/stocks/tata-consultancy-services-TCS/financials?period=annual&statement=cashflow\"\n",
    "response = req.get(url)\n",
    "html = response.text\n",
    "soup = BeautifulSoup(html, 'html.parser')\n",
    "column = soup.findAll(\"div\", {\"data-row\": \"cafFcf\"})\n",
    "financial_year = utils.getFinancialYear()\n",
    "financial_year_limit = financial_year - 9\n",
    "free_cash_flows = []\n",
    "\n",
    "\n",
    "for i, x in enumerate(column):\n",
    "    if i == 0:\n",
    "        continue\n",
    "\n",
    "    data = BeautifulSoup(str(x), 'html.parser').get_text().replace(',','')\n",
    "    \n",
    "\n",
    "    if (len(data) > 0):\n",
    "        free_cash_flows.append(float(data))\n",
    "\n",
    "print(free_cash_flows)\n",
    "\n"
   ]
  },
  {
   "cell_type": "code",
   "execution_count": 19,
   "metadata": {
    "tags": []
   },
   "outputs": [],
   "source": [
    "# Get Cashflows\n",
    "apv_api_key = '2N8UEPVRC2AWTK6B'\n",
    "\n",
    "cashflows = req.get(\"https://www.alphavantage.co/query?function=CASH_FLOW&symbol=TCS&apikey=2N8UEPVRC2AWTK6B\")\n",
    "cashflows = cashflows.json()\n",
    "annual_cf_df = pd.DataFrame(cashflows['annualReports']).sort_index(ascending=False)\n",
    "dates = annual_cf_df['fiscalDateEnding'].values.tolist()\n",
    "years = []\n",
    "\n",
    "for date in dates:\n",
    "    years.append(dt.datetime.strptime(date, \"%Y-%m-%d\").year)"
   ]
  },
  {
   "cell_type": "code",
   "execution_count": 57,
   "metadata": {
    "tags": []
   },
   "outputs": [
    {
     "output_type": "execute_result",
     "data": {
      "text/plain": "-35.630076966509364"
     },
     "metadata": {},
     "execution_count": 57
    }
   ],
   "source": [
    "fcf_df = pd.DataFrame()\n",
    "fcf_df[\"Year\"] = years\n",
    "fcf_df[\"Operating Cashflow\"] = annual_cf_df[\"operatingCashflow\"].astype(int)\n",
    "fcf_df[\"Cap Ex\"] = annual_cf_df[\"capitalExpenditures\"].astype(int)\n",
    "fcf_df[\"FCF\"] = fcf_df[\"Operating Cashflow\"] - fcf_df[\"Cap Ex\"]\n",
    "growth_rate = [0]\n",
    "\n",
    "for i in range(len(fcf_df[\"FCF\"])):\n",
    "    if i < len(fcf_df[\"FCF\"]) - 1:\n",
    "        pct_diff = (fcf_df[\"FCF\"].iloc[i+1] - fcf_df[\"FCF\"].iloc[i])/abs(fcf_df[\"FCF\"].iloc[i])\n",
    "        growth_rate.append(pct_diff * 100)\n",
    "\n",
    "fcf_df[\"Growth Rate\"]  = growth_rate\n",
    "avg_growth = fcf_df[\"Growth Rate\"].iloc[1:].mean()\n",
    "\n",
    "avg_growth"
   ]
  },
  {
   "cell_type": "code",
   "execution_count": null,
   "metadata": {},
   "outputs": [],
   "source": []
  }
 ]
}